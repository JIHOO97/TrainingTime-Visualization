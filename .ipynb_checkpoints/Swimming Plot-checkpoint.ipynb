{
 "cells": [
  {
   "cell_type": "markdown",
   "id": "f94b1cb4",
   "metadata": {},
   "source": [
    "## Import libraries"
   ]
  },
  {
   "cell_type": "code",
   "execution_count": 1,
   "id": "3113c4fb",
   "metadata": {},
   "outputs": [],
   "source": [
    "import dash # initialize your application\n",
    "import dash_core_components as dcc # allows you to create interactive components like graphs, dropdowns, or date ranges\n",
    "import dash_html_components as html # access HTML tags\n",
    "import pandas as pd\n",
    "import numpy as np\n",
    "\n",
    "from datetime import datetime\n",
    "from dash.dependencies import Output, Input"
   ]
  },
  {
   "cell_type": "markdown",
   "id": "992187f4",
   "metadata": {},
   "source": [
    "## Import data"
   ]
  },
  {
   "cell_type": "code",
   "execution_count": 2,
   "id": "2e3249f9",
   "metadata": {
    "scrolled": false
   },
   "outputs": [
    {
     "data": {
      "text/html": [
       "<div>\n",
       "<style scoped>\n",
       "    .dataframe tbody tr th:only-of-type {\n",
       "        vertical-align: middle;\n",
       "    }\n",
       "\n",
       "    .dataframe tbody tr th {\n",
       "        vertical-align: top;\n",
       "    }\n",
       "\n",
       "    .dataframe thead th {\n",
       "        text-align: right;\n",
       "    }\n",
       "</style>\n",
       "<table border=\"1\" class=\"dataframe\">\n",
       "  <thead>\n",
       "    <tr style=\"text-align: right;\">\n",
       "      <th></th>\n",
       "      <th>Date</th>\n",
       "      <th>Warm Up</th>\n",
       "      <th>Kick</th>\n",
       "      <th>Pull</th>\n",
       "      <th>Swim</th>\n",
       "      <th>Drill</th>\n",
       "      <th>Main Set</th>\n",
       "      <th>Post Set</th>\n",
       "      <th>Cool Down</th>\n",
       "      <th>Total</th>\n",
       "    </tr>\n",
       "  </thead>\n",
       "  <tbody>\n",
       "    <tr>\n",
       "      <th>0</th>\n",
       "      <td>2020-01-02</td>\n",
       "      <td>400.0</td>\n",
       "      <td>600.0</td>\n",
       "      <td>0.0</td>\n",
       "      <td>600.0</td>\n",
       "      <td>400.0</td>\n",
       "      <td>2800.0</td>\n",
       "      <td>100.0</td>\n",
       "      <td>400.0</td>\n",
       "      <td>5300</td>\n",
       "    </tr>\n",
       "    <tr>\n",
       "      <th>1</th>\n",
       "      <td>2020-01-03</td>\n",
       "      <td>400.0</td>\n",
       "      <td>0.0</td>\n",
       "      <td>0.0</td>\n",
       "      <td>1600.0</td>\n",
       "      <td>400.0</td>\n",
       "      <td>2000.0</td>\n",
       "      <td>600.0</td>\n",
       "      <td>400.0</td>\n",
       "      <td>5400</td>\n",
       "    </tr>\n",
       "    <tr>\n",
       "      <th>2</th>\n",
       "      <td>2020-01-04</td>\n",
       "      <td>0.0</td>\n",
       "      <td>0.0</td>\n",
       "      <td>0.0</td>\n",
       "      <td>0.0</td>\n",
       "      <td>0.0</td>\n",
       "      <td>0.0</td>\n",
       "      <td>0.0</td>\n",
       "      <td>0.0</td>\n",
       "      <td>0</td>\n",
       "    </tr>\n",
       "    <tr>\n",
       "      <th>3</th>\n",
       "      <td>2020-01-05</td>\n",
       "      <td>0.0</td>\n",
       "      <td>0.0</td>\n",
       "      <td>0.0</td>\n",
       "      <td>0.0</td>\n",
       "      <td>0.0</td>\n",
       "      <td>0.0</td>\n",
       "      <td>0.0</td>\n",
       "      <td>0.0</td>\n",
       "      <td>0</td>\n",
       "    </tr>\n",
       "    <tr>\n",
       "      <th>4</th>\n",
       "      <td>2020-01-06</td>\n",
       "      <td>800.0</td>\n",
       "      <td>0.0</td>\n",
       "      <td>0.0</td>\n",
       "      <td>2200.0</td>\n",
       "      <td>0.0</td>\n",
       "      <td>2500.0</td>\n",
       "      <td>880.0</td>\n",
       "      <td>200.0</td>\n",
       "      <td>6580</td>\n",
       "    </tr>\n",
       "  </tbody>\n",
       "</table>\n",
       "</div>"
      ],
      "text/plain": [
       "        Date  Warm Up   Kick  Pull    Swim  Drill  Main Set  Post Set  \\\n",
       "0 2020-01-02    400.0  600.0   0.0   600.0  400.0    2800.0     100.0   \n",
       "1 2020-01-03    400.0    0.0   0.0  1600.0  400.0    2000.0     600.0   \n",
       "2 2020-01-04      0.0    0.0   0.0     0.0    0.0       0.0       0.0   \n",
       "3 2020-01-05      0.0    0.0   0.0     0.0    0.0       0.0       0.0   \n",
       "4 2020-01-06    800.0    0.0   0.0  2200.0    0.0    2500.0     880.0   \n",
       "\n",
       "   Cool Down  Total  \n",
       "0      400.0   5300  \n",
       "1      400.0   5400  \n",
       "2        0.0      0  \n",
       "3        0.0      0  \n",
       "4      200.0   6580  "
      ]
     },
     "execution_count": 2,
     "metadata": {},
     "output_type": "execute_result"
    }
   ],
   "source": [
    "data = pd.read_csv(\"Swim_dataset.csv\") # read avocado csv file\n",
    "\n",
    "# filter the unnecessary columns\n",
    "unnec_cols = data.columns[10:]\n",
    "data = data.drop(columns=unnec_cols)\n",
    "\n",
    "# rename \"Unnamed: 0\" column name to \"Date\"\n",
    "data = data.rename(columns={\"Unnamed: 0\":\"Date\"})\n",
    "\n",
    "# convert the contents in the date column into a datetime format\n",
    "data[\"Date\"] = pd.to_datetime(data[\"Date\"], format=\"%Y-%m-%d\") # convert the date into a date format\n",
    "\n",
    "# set Date as an index \n",
    "# data = data.set_index('Date')\n",
    "\n",
    "# convert nan to 0\n",
    "data = data.fillna(0)\n",
    "\n",
    "data.head()"
   ]
  },
  {
   "cell_type": "markdown",
   "id": "9d9d6d86",
   "metadata": {},
   "source": [
    "#### 1 day"
   ]
  },
  {
   "cell_type": "code",
   "execution_count": 3,
   "id": "964f205c",
   "metadata": {},
   "outputs": [],
   "source": [
    "# 1일치\n",
    "one_day_data = data.iloc[0][1:-1]\n",
    "\n",
    "# columns\n",
    "categories = data.columns[1:-1]"
   ]
  },
  {
   "cell_type": "markdown",
   "id": "a14b371d",
   "metadata": {},
   "source": [
    "#### 1 month (total)"
   ]
  },
  {
   "cell_type": "code",
   "execution_count": 4,
   "id": "52e40acd",
   "metadata": {},
   "outputs": [
    {
     "data": {
      "text/plain": [
       "[14200.0, 10900.0, 12400.0, 18120.0, 3200.0, 82950.0, 3280.0, 7100.0, 152150]"
      ]
     },
     "execution_count": 4,
     "metadata": {},
     "output_type": "execute_result"
    }
   ],
   "source": [
    "start_date = '2020-01-02'\n",
    "end_date = '2020-02-02'\n",
    "\n",
    "mask = (\n",
    "        (data.Date >= start_date)\n",
    "        & (data.Date <= end_date)\n",
    "    )\n",
    "\n",
    "filtered_data = data.loc[mask, :]\n",
    "\n",
    "column_list = filtered_data.columns[1:]\n",
    "total_time_list = []\n",
    "for column in column_list:\n",
    "    category_list = list(filtered_data[column])\n",
    "    total_time = sum(category_list)\n",
    "    total_time_list.append(total_time)\n",
    "\n",
    "total_time_list"
   ]
  },
  {
   "cell_type": "markdown",
   "id": "e0558c55",
   "metadata": {},
   "source": [
    "#### 1 month (average)"
   ]
  },
  {
   "cell_type": "code",
   "execution_count": 5,
   "id": "4e9db649",
   "metadata": {},
   "outputs": [
    {
     "data": {
      "text/plain": [
       "[458.06451612903226,\n",
       " 351.61290322580646,\n",
       " 400.0,\n",
       " 584.516129032258,\n",
       " 103.2258064516129,\n",
       " 2675.8064516129034,\n",
       " 105.80645161290323,\n",
       " 229.03225806451613,\n",
       " 4908.064516129032]"
      ]
     },
     "execution_count": 5,
     "metadata": {},
     "output_type": "execute_result"
    }
   ],
   "source": [
    "start_date = '2020-01-02'\n",
    "end_date = '2020-02-02'\n",
    "\n",
    "start_date_time = datetime.strptime(start_date, '%Y-%m-%d')\n",
    "end_date_time = datetime.strptime(end_date, '%Y-%m-%d')\n",
    "\n",
    "days = (end_date_time - start_date_time).days\n",
    "\n",
    "avg_time_list = []\n",
    "for i in range(len(total_time_list)):\n",
    "    avg_time_list.append(total_time_list[i] / days)\n",
    "\n",
    "avg_time_list"
   ]
  },
  {
   "cell_type": "markdown",
   "id": "9de2d129",
   "metadata": {},
   "source": [
    "## Initialize the application"
   ]
  },
  {
   "cell_type": "code",
   "execution_count": 6,
   "id": "394715fe",
   "metadata": {},
   "outputs": [],
   "source": [
    "# adding custom style\n",
    "external_stylesheets = [\n",
    "    {\n",
    "        \"href\": \"https://fonts.googleapis.com/css2?\"\n",
    "                \"family=Lato:wght@400;700&display=swap\",\n",
    "        \"rel\": \"stylesheet\",\n",
    "    },\n",
    "]\n",
    "# font applied\n",
    "app = dash.Dash(__name__, external_stylesheets=external_stylesheets)\n",
    "server = app.server\n",
    "app.title = \"Swimming Training Time Analysis\""
   ]
  },
  {
   "cell_type": "markdown",
   "id": "34780cd6",
   "metadata": {},
   "source": [
    "## App layout"
   ]
  },
  {
   "cell_type": "code",
   "execution_count": 7,
   "id": "e1c0e335",
   "metadata": {},
   "outputs": [],
   "source": [
    "graph_bgcolor = \"#011B74\"\n",
    "font_color = \"#FFFFFF\""
   ]
  },
  {
   "cell_type": "code",
   "execution_count": 27,
   "id": "e62499ea",
   "metadata": {},
   "outputs": [],
   "source": [
    "app.layout = html.Div(\n",
    "    children=[\n",
    "        html.Div(\n",
    "            children=[\n",
    "                html.H1(\n",
    "                    children=\"Swimming Training Amount\", className=\"header-title\"\n",
    "                ),\n",
    "                html.P(\n",
    "                    children=\"Analyze the how the training time affects the result\",\n",
    "                    className=\"header-description\",\n",
    "                ),\n",
    "            ],\n",
    "            className=\"header\",\n",
    "        ),\n",
    "        html.Div(\n",
    "            children=[\n",
    "                html.Div(\n",
    "                    children=dcc.Graph(\n",
    "                        figure={\n",
    "                            \"data\": [\n",
    "                                {\n",
    "                                    \"x\": categories,\n",
    "                                    \"y\": avg_time_list,\n",
    "                                    \"type\": \"bar\",\n",
    "                                    \"name\": \"1 month data\",\n",
    "                                },\n",
    "                            ],\n",
    "                            \"layout\": {\n",
    "                                \"title\": \"Training amount in a month (2020-01-02 to 2020-02-02)\",\n",
    "                                \"height\": 1000,\n",
    "                                \"paper_bgcolor\": graph_bgcolor,\n",
    "                                \"plot_bgcolor\": graph_bgcolor,\n",
    "                                \"font\": {\n",
    "                                    \"color\": \"#FFFFFF\"\n",
    "                                }\n",
    "                            },\n",
    "                        },\n",
    "                    ),\n",
    "                    className='competition-graph-container'\n",
    "                ),\n",
    "                html.Div(\n",
    "                    children=[\n",
    "                        html.Div(\n",
    "                            children=dcc.Graph(\n",
    "                                figure={\n",
    "                                    \"data\": [\n",
    "                                        {\n",
    "                                            \"x\": categories,\n",
    "                                            \"y\": avg_time_list,\n",
    "                                            \"type\": \"bar\",\n",
    "                                            \"name\": \"1 month data\",\n",
    "                                        },\n",
    "                                    ],\n",
    "                                    \"layout\": {\n",
    "                                        \"title\": \"Triaining amount in a month (2020-01-02 to 2020-02-02)\",\n",
    "                                        \"height\": 490,\n",
    "                                        \"paper_bgcolor\": graph_bgcolor,\n",
    "                                        \"plot_bgcolor\": graph_bgcolor,\n",
    "                                        \"font\": {\n",
    "                                            \"color\": \"#FFFFFF\"\n",
    "                                        }\n",
    "                                    },\n",
    "                                },\n",
    "                            ),\n",
    "                            className='category-graph'\n",
    "                        ),\n",
    "                        html.Div(\n",
    "                            children=dcc.Graph(\n",
    "                                figure={\n",
    "                                    \"data\": [\n",
    "                                        {\n",
    "                                            \"x\": categories,\n",
    "                                            \"y\": avg_time_list,\n",
    "                                            \"type\": \"bar\",\n",
    "                                            \"name\": \"1 month data\",\n",
    "                                        },\n",
    "                                    ],\n",
    "                                    \"layout\": {\n",
    "                                        \"title\": \"Triaining amount in a month (2020-01-02 to 2020-02-02)\",\n",
    "                                        \"height\": 490,\n",
    "                                        \"paper_bgcolor\": graph_bgcolor,\n",
    "                                        \"plot_bgcolor\": graph_bgcolor,\n",
    "                                        \"font\": {\n",
    "                                            \"color\": \"#FFFFFF\"\n",
    "                                        }\n",
    "                                    },\n",
    "                                },\n",
    "                            ),\n",
    "                            className='category-graph'\n",
    "                        ),\n",
    "                    ],\n",
    "                    className='category-graph-container'\n",
    "                )\n",
    "            ],\n",
    "            className='graph-container'\n",
    "        )\n",
    "    ],\n",
    ")"
   ]
  },
  {
   "cell_type": "code",
   "execution_count": null,
   "id": "66dc74e2",
   "metadata": {
    "scrolled": true
   },
   "outputs": [
    {
     "name": "stdout",
     "output_type": "stream",
     "text": [
      "Dash is running on http://127.0.0.1:8050/\n",
      "\n",
      " Warning: This is a development server. Do not use app.run_server\n",
      " in production, use a production WSGI server like gunicorn instead.\n",
      "\n",
      " * Serving Flask app \"__main__\" (lazy loading)\n",
      " * Environment: production\n",
      "   WARNING: This is a development server. Do not use it in a production deployment.\n",
      "   Use a production WSGI server instead.\n",
      " * Debug mode: off\n"
     ]
    },
    {
     "name": "stderr",
     "output_type": "stream",
     "text": [
      " * Running on http://127.0.0.1:8050/ (Press CTRL+C to quit)\n",
      "127.0.0.1 - - [21/Sep/2021 19:06:53] \"\u001b[37mGET / HTTP/1.1\u001b[0m\" 200 -\n",
      "127.0.0.1 - - [21/Sep/2021 19:06:54] \"\u001b[37mGET /_dash-layout HTTP/1.1\u001b[0m\" 200 -\n",
      "127.0.0.1 - - [21/Sep/2021 19:06:54] \"\u001b[37mGET /_dash-dependencies HTTP/1.1\u001b[0m\" 200 -\n",
      "127.0.0.1 - - [21/Sep/2021 19:07:24] \"\u001b[37mGET / HTTP/1.1\u001b[0m\" 200 -\n",
      "127.0.0.1 - - [21/Sep/2021 19:07:24] \"\u001b[37mGET /assets/style.css?m=1632218841.9521923 HTTP/1.1\u001b[0m\" 200 -\n",
      "127.0.0.1 - - [21/Sep/2021 19:07:24] \"\u001b[37mGET /_dash-layout HTTP/1.1\u001b[0m\" 200 -\n",
      "127.0.0.1 - - [21/Sep/2021 19:07:24] \"\u001b[37mGET /_dash-dependencies HTTP/1.1\u001b[0m\" 200 -\n",
      "127.0.0.1 - - [21/Sep/2021 19:07:24] \"\u001b[37mGET /_favicon.ico?v=1.13.3 HTTP/1.1\u001b[0m\" 200 -\n"
     ]
    }
   ],
   "source": [
    "if __name__ == \"__main__\":\n",
    "    app.run_server(debug=False)"
   ]
  }
 ],
 "metadata": {
  "kernelspec": {
   "display_name": "Python 3",
   "language": "python",
   "name": "python3"
  },
  "language_info": {
   "codemirror_mode": {
    "name": "ipython",
    "version": 3
   },
   "file_extension": ".py",
   "mimetype": "text/x-python",
   "name": "python",
   "nbconvert_exporter": "python",
   "pygments_lexer": "ipython3",
   "version": "3.8.8"
  }
 },
 "nbformat": 4,
 "nbformat_minor": 5
}
