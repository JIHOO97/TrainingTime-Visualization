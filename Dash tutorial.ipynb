{
 "cells": [
  {
   "cell_type": "markdown",
   "id": "3a340966",
   "metadata": {},
   "source": [
    "## Dash\n",
    "\n",
    "**Reference:** https://realpython.com/python-dash/"
   ]
  },
  {
   "cell_type": "markdown",
   "id": "93a29b3d",
   "metadata": {},
   "source": [
    "**Dash** is an open source framework for building data visualization interfaces\n",
    "1. **Flask** supplies the web server functionality.\n",
    "2. **React.js** renders the user interface of the web page.\n",
    "3. **Plotly.js** generates the charts used in your application.\n",
    "\n",
    "_But you don’t have to worry about making all these technologies work together. Dash will do that for you._\n",
    "\n",
    "**Popular projects using Dash**\n",
    "- [A dashboard to analyze trading positions in real-time](https://dash.gallery/dash-web-trader/)\n",
    "- [A visualization of millions of Uber rides](https://dash.gallery/dash-uber-rides-demo/)\n",
    "- [An interactive financial report](https://dash.gallery/dash-financial-report/)\n",
    "\n",
    "**Things to know before moving on**\n",
    "1. Python graphing libraries\n",
    "2. HTML\n",
    "3. CSS"
   ]
  },
  {
   "cell_type": "code",
   "execution_count": 1,
   "id": "56abd3a4",
   "metadata": {},
   "outputs": [
    {
     "name": "stdout",
     "output_type": "stream",
     "text": [
      "Requirement already satisfied: dash==1.13.3 in d:\\anaconda3\\lib\\site-packages (1.13.3)\n",
      "Requirement already satisfied: dash-core-components==1.10.1 in d:\\anaconda3\\lib\\site-packages (from dash==1.13.3) (1.10.1)\n",
      "Requirement already satisfied: future in d:\\anaconda3\\lib\\site-packages (from dash==1.13.3) (0.18.2)\n",
      "Requirement already satisfied: dash-html-components==1.0.3 in d:\\anaconda3\\lib\\site-packages (from dash==1.13.3) (1.0.3)\n",
      "Requirement already satisfied: Flask>=1.0.2 in d:\\anaconda3\\lib\\site-packages (from dash==1.13.3) (1.1.2)\n",
      "Requirement already satisfied: dash-table==4.8.1 in d:\\anaconda3\\lib\\site-packages (from dash==1.13.3) (4.8.1)\n",
      "Requirement already satisfied: dash-renderer==1.5.0 in d:\\anaconda3\\lib\\site-packages (from dash==1.13.3) (1.5.0)\n",
      "Requirement already satisfied: plotly in d:\\anaconda3\\lib\\site-packages (from dash==1.13.3) (5.3.1)\n",
      "Requirement already satisfied: flask-compress in d:\\anaconda3\\lib\\site-packages (from dash==1.13.3) (1.10.1)\n",
      "Requirement already satisfied: click>=5.1 in d:\\anaconda3\\lib\\site-packages (from Flask>=1.0.2->dash==1.13.3) (7.1.2)\n",
      "Requirement already satisfied: itsdangerous>=0.24 in d:\\anaconda3\\lib\\site-packages (from Flask>=1.0.2->dash==1.13.3) (1.1.0)\n",
      "Requirement already satisfied: Werkzeug>=0.15 in d:\\anaconda3\\lib\\site-packages (from Flask>=1.0.2->dash==1.13.3) (1.0.1)\n",
      "Requirement already satisfied: Jinja2>=2.10.1 in d:\\anaconda3\\lib\\site-packages (from Flask>=1.0.2->dash==1.13.3) (2.11.3)\n",
      "Requirement already satisfied: MarkupSafe>=0.23 in d:\\anaconda3\\lib\\site-packages (from Jinja2>=2.10.1->Flask>=1.0.2->dash==1.13.3) (1.1.1)\n",
      "Requirement already satisfied: brotli in d:\\anaconda3\\lib\\site-packages (from flask-compress->dash==1.13.3) (1.0.9)\n",
      "Requirement already satisfied: six in d:\\anaconda3\\lib\\site-packages (from plotly->dash==1.13.3) (1.15.0)\n",
      "Requirement already satisfied: tenacity>=6.2.0 in d:\\anaconda3\\lib\\site-packages (from plotly->dash==1.13.3) (8.0.1)\n"
     ]
    }
   ],
   "source": [
    "# install dash library\n",
    "!pip install dash==1.13.3"
   ]
  },
  {
   "cell_type": "markdown",
   "id": "7a20d0df",
   "metadata": {},
   "source": [
    "**Process of building a Dash application**\n",
    "1. Define the looks of your application using app's **layout**\n",
    "2. Use **callbacks** to determine which parts of your app are interactive and what they react to"
   ]
  },
  {
   "cell_type": "markdown",
   "id": "c35128ee",
   "metadata": {},
   "source": [
    "### Import libraries"
   ]
  },
  {
   "cell_type": "code",
   "execution_count": 6,
   "id": "0da8e832",
   "metadata": {},
   "outputs": [],
   "source": [
    "import dash # initialize your application\n",
    "import dash_core_components as dcc # allows you to create interactive components like graphs, dropdowns, or date ranges\n",
    "import dash_html_components as html # access HTML tags\n",
    "import pandas as pd\n",
    "import numpy as np\n",
    "\n",
    "from dash.dependencies import Output, Input"
   ]
  },
  {
   "cell_type": "markdown",
   "id": "7e210ffd",
   "metadata": {},
   "source": [
    "### Data"
   ]
  },
  {
   "cell_type": "code",
   "execution_count": 3,
   "id": "b1fbc3b8",
   "metadata": {},
   "outputs": [],
   "source": [
    "data = pd.read_csv(\"csvs\\\\avocado.csv\") # read avocado csv file\n",
    "data = data.query(\"type == 'conventional' and region == 'Albany'\") # filter the query\n",
    "data[\"Date\"] = pd.to_datetime(data[\"Date\"], format=\"%Y-%m-%d\") # convert the date into a date format\n",
    "data.sort_values(\"Date\", inplace=True) # sort the datetime in ascending order\n",
    "\n",
    "# adding custom style\n",
    "external_stylesheets = [\n",
    "    {\n",
    "        \"href\": \"https://fonts.googleapis.com/css2?\"\n",
    "                \"family=Lato:wght@400;700&display=swap\",\n",
    "        \"rel\": \"stylesheet\",\n",
    "    },\n",
    "]\n",
    "app = dash.Dash(__name__, external_stylesheets=external_stylesheets)\n",
    "server = app.server\n",
    "app.title = \"Avocado Analytics: Understand Your Avocados!\""
   ]
  },
  {
   "cell_type": "markdown",
   "id": "f256f9ed",
   "metadata": {},
   "source": [
    "### App layout"
   ]
  },
  {
   "cell_type": "code",
   "execution_count": 4,
   "id": "f96eecf8",
   "metadata": {},
   "outputs": [],
   "source": [
    "app.layout = html.Div(\n",
    "    children=[\n",
    "        html.Div(\n",
    "            children=[\n",
    "                html.P(children=\"🥑\", className=\"header-emoji\"),\n",
    "                html.H1(\n",
    "                    children=\"Avocado Analytics\", className=\"header-title\"\n",
    "                ),\n",
    "                html.P(\n",
    "                    children=\"Analyze the behavior of avocado prices\"\n",
    "                    \" and the number of avocados sold in the US\"\n",
    "                    \" between 2015 and 2018\",\n",
    "                    className=\"header-description\",\n",
    "                ),\n",
    "            ],\n",
    "            className=\"header\",\n",
    "        ),\n",
    "        html.Div(\n",
    "            children=[\n",
    "                html.Div(\n",
    "                    children=[\n",
    "                        html.Div(children=\"Region\", className=\"menu-title\"),\n",
    "                        dcc.Dropdown(\n",
    "                            id=\"region-filter\",\n",
    "                            options=[\n",
    "                                {\"label\": region, \"value\": region}\n",
    "                                for region in np.sort(data.region.unique())\n",
    "                            ],\n",
    "                            value=\"Albany\",\n",
    "                            clearable=False,\n",
    "                            className=\"dropdown\",\n",
    "                        ),\n",
    "                    ]\n",
    "                ),\n",
    "                html.Div(\n",
    "                    children=[\n",
    "                        html.Div(children=\"Type\", className=\"menu-title\"),\n",
    "                        dcc.Dropdown(\n",
    "                            id=\"type-filter\",\n",
    "                            options=[\n",
    "                                {\"label\": avocado_type, \"value\": avocado_type}\n",
    "                                for avocado_type in data.type.unique()\n",
    "                            ],\n",
    "                            value=\"organic\",\n",
    "                            clearable=False,\n",
    "                            searchable=False,\n",
    "                            className=\"dropdown\",\n",
    "                        ),\n",
    "                    ],\n",
    "                ),\n",
    "                html.Div(\n",
    "                    children=[\n",
    "                        html.Div(\n",
    "                            children=\"Date Range\", className=\"menu-title\"\n",
    "                        ),\n",
    "                        dcc.DatePickerRange(\n",
    "                            id=\"date-range\",\n",
    "                            min_date_allowed=data.Date.min().date(),\n",
    "                            max_date_allowed=data.Date.max().date(),\n",
    "                            start_date=data.Date.min().date(),\n",
    "                            end_date=data.Date.max().date(),\n",
    "                        ),\n",
    "                    ]\n",
    "                ),\n",
    "            ],\n",
    "            className=\"menu\",\n",
    "        ),\n",
    "        html.Div(\n",
    "            children=[\n",
    "                html.Div(\n",
    "                    children=dcc.Graph(\n",
    "                        id=\"price-chart\",\n",
    "                        config={\"displayModeBar\": False},\n",
    "                    ),\n",
    "                    className=\"card\",\n",
    "                ),\n",
    "                html.Div(\n",
    "                    children=dcc.Graph(\n",
    "                        id=\"volume-chart\",\n",
    "                        config={\"displayModeBar\": False},\n",
    "                    ),\n",
    "                    className=\"card\",\n",
    "                ),\n",
    "            ],\n",
    "            className=\"wrapper\",\n",
    "        ),\n",
    "    ]\n",
    ")"
   ]
  },
  {
   "cell_type": "markdown",
   "id": "1e283339",
   "metadata": {},
   "source": [
    "**Two sets of components**\n",
    "1. **Dash HTML Components** provides you with Python wrappers for HTML elements. For example, you could use this library to create elements such as paragraphs, headings, or lists.\n",
    "2. **Dash Core Components** provides you with Python abstractions for creating interactive user interfaces. You can use it to create interactive elements such as graphs, sliders, or dropdowns."
   ]
  },
  {
   "cell_type": "markdown",
   "id": "63770a87",
   "metadata": {},
   "source": [
    "### Run the application"
   ]
  },
  {
   "cell_type": "code",
   "execution_count": null,
   "id": "bcae7a16",
   "metadata": {
    "scrolled": true
   },
   "outputs": [],
   "source": [
    "if __name__ == \"__main__\":\n",
    "    app.run_server(debug=False)"
   ]
  },
  {
   "cell_type": "markdown",
   "id": "8ca9ceab",
   "metadata": {},
   "source": [
    "## Style your Dash application\n",
    "\n",
    "> Dash provides you with a lot of flexibility to customize the look of your application"
   ]
  },
  {
   "cell_type": "markdown",
   "id": "d67e610d",
   "metadata": {},
   "source": [
    "**Two ways to style your components**\n",
    "1. Using the `style` argument of individual components\n",
    "2. Providing an external CSS file"
   ]
  },
  {
   "cell_type": "markdown",
   "id": "3a90e7eb",
   "metadata": {},
   "source": [
    "#### Why not the first option"
   ]
  },
  {
   "cell_type": "markdown",
   "id": "f0d4c93a",
   "metadata": {},
   "source": [
    "Using the `style` argument to customize your dashboard is straightforward. \\\n",
    "But the downside of using the style argument is that it doesn’t scale well as your codebase grows. \\\n",
    "If your dashboard has multiple components that you want to look the same, then you’ll end up repeating a lot of your code. Instead, you can use a custom CSS file."
   ]
  },
  {
   "cell_type": "markdown",
   "id": "46746796",
   "metadata": {},
   "source": [
    "If you want to include your own local CSS or JavaScript files, then you need to create a folder called `assets/` in the root directory of your project and save the files you want to add there. By default, Dash automatically serves any file included in `assets/`."
   ]
  },
  {
   "cell_type": "markdown",
   "id": "b38c6959",
   "metadata": {},
   "source": [
    "## Add interactivity to your Dash application using callbacks\n",
    "\n",
    "> You can link components with elements of your app that you want to update. If a user interacts with an input component like a dropdown or a range slider, then the output, such as a graph, will react automatically to the changes in the input."
   ]
  },
  {
   "cell_type": "code",
   "execution_count": 7,
   "id": "d045b77c",
   "metadata": {},
   "outputs": [],
   "source": [
    "@app.callback(\n",
    "    [Output(\"price-chart\", \"figure\"), Output(\"volume-chart\", \"figure\")],\n",
    "    [\n",
    "        Input(\"region-filter\", \"value\"),\n",
    "        Input(\"type-filter\", \"value\"),\n",
    "        Input(\"date-range\", \"start_date\"),\n",
    "        Input(\"date-range\", \"end_date\"),\n",
    "    ],\n",
    ")\n",
    "def update_charts(region, avocado_type, start_date, end_date):\n",
    "    mask = (\n",
    "        (data.region == region)\n",
    "        & (data.type == avocado_type)\n",
    "        & (data.Date >= start_date)\n",
    "        & (data.Date <= end_date)\n",
    "    )\n",
    "    filtered_data = data.loc[mask, :]\n",
    "    price_chart_figure = {\n",
    "        \"data\": [\n",
    "            {\n",
    "                \"x\": filtered_data[\"Date\"],\n",
    "                \"y\": filtered_data[\"AveragePrice\"],\n",
    "                \"type\": \"lines\",\n",
    "                \"hovertemplate\": \"$%{y:.2f}<extra></extra>\",\n",
    "            },\n",
    "        ],\n",
    "        \"layout\": {\n",
    "            \"title\": {\n",
    "                \"text\": \"Average Price of Avocados\",\n",
    "                \"x\": 0.05,\n",
    "                \"xanchor\": \"left\",\n",
    "            },\n",
    "            \"xaxis\": {\"fixedrange\": True},\n",
    "            \"yaxis\": {\"tickprefix\": \"$\", \"fixedrange\": True},\n",
    "            \"colorway\": [\"#17B897\"],\n",
    "        },\n",
    "    }\n",
    "\n",
    "    volume_chart_figure = {\n",
    "        \"data\": [\n",
    "            {\n",
    "                \"x\": filtered_data[\"Date\"],\n",
    "                \"y\": filtered_data[\"Total Volume\"],\n",
    "                \"type\": \"lines\",\n",
    "            },\n",
    "        ],\n",
    "        \"layout\": {\n",
    "            \"title\": {\"text\": \"Avocados Sold\", \"x\": 0.05, \"xanchor\": \"left\"},\n",
    "            \"xaxis\": {\"fixedrange\": True},\n",
    "            \"yaxis\": {\"fixedrange\": True},\n",
    "            \"colorway\": [\"#E12D39\"],\n",
    "        },\n",
    "    }\n",
    "    return price_chart_figure, volume_chart_figure"
   ]
  },
  {
   "cell_type": "markdown",
   "id": "468731d0",
   "metadata": {},
   "source": [
    "### Run"
   ]
  },
  {
   "cell_type": "code",
   "execution_count": 8,
   "id": "1975cae3",
   "metadata": {},
   "outputs": [
    {
     "name": "stdout",
     "output_type": "stream",
     "text": [
      "Dash is running on http://127.0.0.1:8050/\n",
      "\n",
      " Warning: This is a development server. Do not use app.run_server\n",
      " in production, use a production WSGI server like gunicorn instead.\n",
      "\n",
      " * Serving Flask app \"__main__\" (lazy loading)\n",
      " * Environment: production\n",
      "   WARNING: This is a development server. Do not use it in a production deployment.\n",
      "   Use a production WSGI server instead.\n",
      " * Debug mode: off\n"
     ]
    },
    {
     "name": "stderr",
     "output_type": "stream",
     "text": [
      " * Running on http://127.0.0.1:8050/ (Press CTRL+C to quit)\n",
      "127.0.0.1 - - [19/Sep/2021 17:26:36] \"\u001b[37mGET / HTTP/1.1\u001b[0m\" 200 -\n",
      "127.0.0.1 - - [19/Sep/2021 17:26:36] \"\u001b[37mGET /_dash-dependencies HTTP/1.1\u001b[0m\" 200 -\n",
      "127.0.0.1 - - [19/Sep/2021 17:26:36] \"\u001b[37mGET /_dash-layout HTTP/1.1\u001b[0m\" 200 -\n",
      "127.0.0.1 - - [19/Sep/2021 17:26:36] \"\u001b[37mPOST /_dash-update-component HTTP/1.1\u001b[0m\" 200 -\n",
      "127.0.0.1 - - [19/Sep/2021 17:26:39] \"\u001b[37mPOST /_dash-update-component HTTP/1.1\u001b[0m\" 200 -\n",
      "127.0.0.1 - - [19/Sep/2021 17:27:04] \"\u001b[37mPOST /_dash-update-component HTTP/1.1\u001b[0m\" 200 -\n"
     ]
    }
   ],
   "source": [
    "if __name__ == \"__main__\":\n",
    "    app.run_server(debug=False)"
   ]
  }
 ],
 "metadata": {
  "kernelspec": {
   "display_name": "Python 3",
   "language": "python",
   "name": "python3"
  },
  "language_info": {
   "codemirror_mode": {
    "name": "ipython",
    "version": 3
   },
   "file_extension": ".py",
   "mimetype": "text/x-python",
   "name": "python",
   "nbconvert_exporter": "python",
   "pygments_lexer": "ipython3",
   "version": "3.8.8"
  }
 },
 "nbformat": 4,
 "nbformat_minor": 5
}
